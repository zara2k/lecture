{
 "cells": [
  {
   "cell_type": "markdown",
   "metadata": {},
   "source": [
    "**화폐의 시간가치, 현금흐름할인법**\n",
    "<div style=\"color:red; text-align:center; font-size:300%; font-weight:bold\">Time Value of Money and Discounted Cash Flow Method</div>"
   ]
  },
  {
   "cell_type": "markdown",
   "metadata": {},
   "source": [
    "---\n",
    "[TOC]\n",
    "1. <a href='#Cash-Flows-and-Assets'>Cash Flows and Assets</a>\n",
    "1. <a href='#Present-Value,-Future-Value,-and-the-Time-Value-of-Money'>Present Value, Future Value, and the Time Value of Money</a>\n",
    "    - <a href='#Net-Present-Value-%28NPV%29'>Net Present Value</a>\n",
    "1. <a href='#Special-Cash-Flows:-The-Perpetuity'>Special Cash Flows: The Perpetuity</a>\n",
    "1. <a href='#Special-Cash-Flows:-The-Annuity'>Special Cash Flows: The Annuity</a>\n",
    "1. <a href='#APR-and-EAR'>APR and EAR</a>\n",
    "1. Amortization\n",
    "* <a href='#Quiz'>Quiz</a>"
   ]
  },
  {
   "cell_type": "markdown",
   "metadata": {},
   "source": [
    "---\n",
    "# Cash Flows and Assets\n",
    "\n",
    "(Cash Flow: 현금흐름, Asset: 자산)"
   ]
  },
  {
   "cell_type": "markdown",
   "metadata": {},
   "source": [
    "## Asset\n",
    "<br>\n",
    "<div style=\"text-align: left; font-size:150%\"> <b>Key Question: What Is An “Asset”?</b></div>\n",
    "\n",
    "* Business entity\n",
    "* Property, Plant, and Equipment\n",
    "* Patents, R&D\n",
    "* Stocks, Bonds, Options, …\n",
    "* Knowledge, Reputation, Opportunities, etc."
   ]
  },
  {
   "cell_type": "markdown",
   "metadata": {},
   "source": [
    "<br>\n",
    "<div style=\"text-align: center; font-size:150%\"> <b>From a Business Perspective, an Asset is a Sequence of Cash Flows!</b></div>\n",
    "\n",
    "<div style=\"text-align: center; font-size:150%\"> <b>$$\\color{red}{Assets = \\{CF_{1}, CF_{2}, \\ldots \\}}$$ </b></div>"
   ]
  },
  {
   "cell_type": "markdown",
   "metadata": {},
   "source": [
    "**Examples of Assets as Cash Flows**\n",
    "1. 보잉사는 새로운 소형 여객기를 개발하는 것을 고려하고 있다. 이 사업은 공장 설립에 3년 기간이 소요되고 1조원의 자금이 필요하다. 공장이 설립되면 매년 30개의 여객기를 생산할 수 있으며 대당 400억원에 판매가능할 것으로 예상한다.\n",
    "1. KOSPI200 기업들은 주당 5만원의 순이익이 기대되며 3만원의 배당이 지급될 것으로 예상한다.\n",
    "1. 당신은 방금 H기업에 고용되었다. 연봉은 1억원이며, 주당 10만원에 행사할 수 있는 스톡옵션 50,000주를 받았다."
   ]
  },
  {
   "cell_type": "markdown",
   "metadata": {},
   "source": [
    "---\n",
    "## Price of the Asset\n",
    "\n",
    "<br>\n",
    "<div style=\"text-align: left; font-size:150%\"> <b>What is the <font color=\"red\">value</font> of the Asset? = What is the <font color=\"red\">price</font> of the Asset?</b></div>\n",
    "\n",
    "* 현금흐름 $CF_t, CF_{t+1}, CF_{t+2},\\ldots$을 받기위해 지금 얼마를 지급해야 하는가?\n",
    "\n",
    "<br>\n",
    "<div style=\"text-align: center; font-size:150%\"> <b>$$\\color{red}{Price}~of~Asset_t \\equiv \\color{red}{f}(CF_t, CF_{t+1}, CF_{t+2},\\ldots)$$</b></div>\n",
    "\n",
    "<br>\n",
    "<div style=\"text-align: left; font-size:150%\"> <b><font color=\"blue\">Discounted Cash Flow Method</font></b></div>\n",
    "\n",
    "\n",
    "(현재가치할인법)\n",
    "* 미래의 현금흐름들 $\\{CF_t, CF_{t+1}, CF_{t+2},\\ldots\\}$ 각각의 현재가치를 산출해주는 함수 <font color=\"red\">$f$</font>를 적용하여 자산의 가격을 구하는 방법\n",
    "* <font color=\"red\">\"Discounting\"</font>, <font color=\"red\">\"할인\"</font>한다라고 말함.\n"
   ]
  },
  {
   "cell_type": "markdown",
   "metadata": {},
   "source": [
    "---\n",
    "# Present Value, Future Value, and the Time Value of Money\n",
    "\n",
    "## Bacis definitions\n",
    "* Time line: \n",
    "\n",
    "<img src=\"https://raw.github.com/zara2k/lecture/master/timeLine_definition.png\" width=\"500\">\n",
    "\n",
    "* <font color=\"red\">$PV$</font> (Present Value) : 미래 cash flows의 오늘의 가치\n",
    "* <font color=\"red\">$FV$</font> (Future Value) : 오늘 cash flows의 미래가치\n",
    "* <font color=\"red\">$N$</font> : PV와 FV 사이의 기간 수\n",
    "* <font color=\"red\">$r$</font>  (Interest Rate)  :  PV와 FV 사이의 교환비율(\"exchange rate\"), interpreted as (1) Discount rate, (2) Cost of capital, (3) Opportunity cost of capital, or (4) Required return\n"
   ]
  },
  {
   "cell_type": "markdown",
   "metadata": {},
   "source": [
    "---\n",
    "## Future Values\n",
    "### Derivation of FV formula\n",
    "\n",
    "* 100만원을 10%의 이자율로 3년동안 투자한다면,\n",
    "* 1년 후,\n",
    "\\begin{eqnarray} \n",
    "FV_1 &=& \\text{Principal} + \\text{Interest} \\\\\n",
    "&=& 100 + 100\\times0.10 = 110 \\\\\n",
    "&=& \\color{red}{100(1+0.10)^1}\n",
    "\\end{eqnarray}\n",
    "\n",
    "* 2년 후,\n",
    "\\begin{eqnarray} \n",
    "FV_2 &=& \\text{Principal} + \\text{Interest} \\\\\n",
    "&=& 110 + 110\\times0.10 = 121 \\\\\n",
    "&=& 110(1+0.10)^1\n",
    "= \\color{red}{100(1+0.10)^2}\n",
    "\\end{eqnarray}\n",
    "\n",
    "* 3년 후,\n",
    "\\begin{eqnarray} \n",
    "FV_3 &=& \\text{Principal} + \\text{Interest} \\\\\n",
    "&=& 121 + 121\\times0.10 = 133.10 \\\\\n",
    "&=& 121(1+0.10)^1\n",
    "= \\color{red}{100(1+0.10)^3}\n",
    "\\end{eqnarray}"
   ]
  },
  {
   "cell_type": "markdown",
   "metadata": {},
   "source": [
    "### Future Value Formula\n",
    "* 일반화하여, 오늘 투자한 100만원의 10% 이자율 적용시 $N$ 기간 후의 가치는,\n",
    "\n",
    "<div style=\"text-align: center; font-size:150%\"> <b>$$FV_N = 100(1+0.10)^N$$  </b></div>\n",
    "\n",
    "* 오늘 투자한 PV 금액의 r% 이자율 적용 시 $N$ 기간 후 가치는,\n",
    "\n",
    "<div style=\"text-align: center; font-size:150%\"> <b> $$\\color{red}{FV_N = PV(1+r)^N}$$ </b></div>\n",
    "\n",
    "\n",
    "* $(1+r)^N$ : <font color='blue'>Future Value Interest Factor(FVIF)</font>\n",
    "* 이와 같이, 현재 투자한 원금에 이자가 적립되고, 적립된 이자에 다시 이자가 부여되는 과정을 <font color='red'>복리계산(compounding)</font>이라 함."
   ]
  },
  {
   "cell_type": "markdown",
   "metadata": {},
   "source": [
    "---\n",
    "### Simple Interest vs. Compound Interest\n",
    "(단리 vs. 복리)\n",
    "* <font color='red'>Simple interest</font>: Interest which is earned <u>only on the original principal.</u>\n",
    "    - 100만원을 2년 간 10% 이자에 투자했다면,\n",
    "    - 단리 계산하는 경우, \n",
    "$$FV =100+100\\times0.1+100\\times0.1=100(1+0.1\\times2)=120$$\n",
    "* <font color='red'>Compound interest</font>: Interest which is earned <u>on principal and on interest received</u>\n",
    "    - 복리 계산하는 경우, \n",
    "$$FV=100(1+0.10)(1+0.10)=121$$\n",
    "    - 추가적인 1만원은 첫 이자에 이자가 발생하여($10\\times0.10=1$) 만들어 진 것임.\n"
   ]
  },
  {
   "cell_type": "markdown",
   "metadata": {},
   "source": [
    "### Example\n",
    "* Suppose you had a deposit $\\$$10 at 5.5\\% interest 200 years ago. \n",
    "* How much would the investment be worth today?\n",
    "$$FV=10(1+0.055)^{\\color{red}{200}}=\\$447,189.84$$\n",
    "\n",
    "* What is the effect of compounding?\n",
    "   - Under Simple interest,  $FV=10+10\\times0.055\\color{red}{\\times200}=\\$120$\n",
    "   - Compounding added $\\$$447,069.84 to the value of the investment\n"
   ]
  },
  {
   "cell_type": "code",
   "execution_count": 1,
   "metadata": {},
   "outputs": [],
   "source": [
    "def FV(N, r, PV):\n",
    "    return PV*(1+r)**N\n",
    "\n",
    "def FV_simple(N, r, PV):\n",
    "    return PV*(1+r*N)"
   ]
  },
  {
   "cell_type": "code",
   "execution_count": 2,
   "metadata": {},
   "outputs": [
    {
     "name": "stdout",
     "output_type": "stream",
     "text": [
      "447189.8387373052\n",
      "120.0\n"
     ]
    }
   ],
   "source": [
    "print(FV(200, 0.055, 10))\n",
    "print(FV_simple(200, 0.055, 10))"
   ]
  },
  {
   "cell_type": "markdown",
   "metadata": {},
   "source": [
    "---\n",
    "## Present Values\n",
    "* 미래 $N$ 기간 후 $FV$를 만들기 위해 오늘 얼마를 투자($PV$)해야 하는가?\n",
    "* $FV$ 공식을 알고 있으므로,\n",
    "<div style=\"text-align: center; font-size:150%\"> <b> $$FV_N = PV(1+r)^N$$ </b></div>\n",
    "\n",
    "\n",
    "* $PV$에 대해 정리하면,\n",
    "<div style=\"text-align: center; font-size:150%\"> <b> $$\\color{red}{PV=\\frac{FV_N}{ (1+r)^N}}$$ </b></div>\n",
    "- 여기서, $1/{(1+r)^N}$는 <font color='red'>Present Value Interest Factor (PVIF)</font>라고 부르기도 함.\n",
    "- When we talk about <font color='red'>discounting</font>, we mean finding the present value of some future amount ($\\leftrightarrow$ <font color='red'>compounding</font> )\n",
    "- When we talk about the \"<font color='red'>value</font>\" of something, we are talking about the present value unless we specifically indicate that we want the future value.\n"
   ]
  },
  {
   "cell_type": "markdown",
   "metadata": {},
   "source": [
    "### Example\n",
    "* 방금 출생한 자녀의 대학 교육비를 준비하고자 한다. 20년 후 1,500만원을 마련하려면 지금 얼마를 준비해둬야 하는가? 이때 시장이자율은 8% 이다."
   ]
  },
  {
   "cell_type": "code",
   "execution_count": 8,
   "metadata": {},
   "outputs": [],
   "source": [
    "def PV(N, r, FV):\n",
    "    return FV/(1+r)**N"
   ]
  },
  {
   "cell_type": "code",
   "execution_count": 9,
   "metadata": {},
   "outputs": [
    {
     "data": {
      "text/plain": [
       "321.82231110608467"
      ]
     },
     "execution_count": 9,
     "metadata": {},
     "output_type": "execute_result"
    }
   ],
   "source": [
    "PV(20, 0.08, 1500)"
   ]
  },
  {
   "cell_type": "markdown",
   "metadata": {},
   "source": [
    "### Effect of Discounting\n",
    "* 할인율이 고정되어 있다면, 기간이 길어질수록 현재가치는 감소\n",
    "* 기간이 고정되어 있다면, 이자율이 증가할수록 현재가치는 감소\n",
    "\n",
    "* Ex) \n",
    "    * 할인율이 10%일 때, 5년 후 받을 수 있는 500만원의 현재가치는 얼마인가? 만약 10년 후 받게된다면 현재가치는 얼마인가?\n",
    "\\begin{eqnarray*}\n",
    "\\text{5 years: }PV&=&\\frac{500}{(1+0.10)^{\\color{red}{5}}} = \\$310.46\\\\\n",
    "\\text{10 years: }PV&=&\\frac{500}{(1+0.10)^{\\color{red}{10}}} = \\$192.77\n",
    "\\end{eqnarray*}\n",
    "\n",
    "    * 5년 후 500만원을 받을 수 있다. 할인율이 10% 일 때 현재가치는 얼마인가? 할인율이 15%일 때 현재가치는 얼마인가?\n",
    "\\begin{eqnarray*}\n",
    "\\text{Rate 10%: }PV&=&\\frac{500}{(1+{\\color{red}{0.10}})^5} = \\$310.46\\\\\n",
    "\\text{Rate 15%: }PV&=&\\frac{500}{(1+{\\color{red}{0.15}})^5} = \\$248.59\n",
    "\\end{eqnarray*}"
   ]
  },
  {
   "cell_type": "code",
   "execution_count": 11,
   "metadata": {},
   "outputs": [
    {
     "name": "stdout",
     "output_type": "stream",
     "text": [
      "5 years:  310.46066152957746\n",
      "10 years:  192.7716447147657\n",
      "10%:  310.46066152957746\n",
      "15%:  248.58836764914494\n"
     ]
    }
   ],
   "source": [
    "print(\"5 years: \", PV(5, 0.10, 500))\n",
    "print(\"10 years: \", PV(10, 0.10, 500))\n",
    "print(\"10%: \", PV(5, 0.10, 500))\n",
    "print(\"15%: \", PV(5, 0.15, 500))"
   ]
  },
  {
   "cell_type": "markdown",
   "metadata": {},
   "source": [
    "---\n",
    "## Multiple Cash Flows\n",
    "\n",
    "* Example) Future Value of Multiple Cash Flows \n",
    "    * 이자율은 8\\%로 가정하자. 1년 후 100만원, 3년 후 300만원을 예치한다면, 5년 후 잔액은 얼마이겠는가? \n",
    "\n"
   ]
  },
  {
   "cell_type": "code",
   "execution_count": 12,
   "metadata": {},
   "outputs": [],
   "source": [
    "CF=[(1,100), (3,300)]"
   ]
  },
  {
   "cell_type": "code",
   "execution_count": 21,
   "metadata": {},
   "outputs": [
    {
     "data": {
      "text/plain": [
       "485.9688960000001"
      ]
     },
     "execution_count": 21,
     "metadata": {},
     "output_type": "execute_result"
    }
   ],
   "source": [
    "Maturity = 5\n",
    "FV_multiple = [FV(Maturity-x[0], 0.08, x[1]) for x in CF]\n",
    "sum(FV_multiple)"
   ]
  },
  {
   "cell_type": "markdown",
   "metadata": {},
   "source": [
    "---\n",
    "\n",
    "# <font color='red'>Net Present Value (NPV)</font>"
   ]
  },
  {
   "cell_type": "markdown",
   "metadata": {},
   "source": [
    "**Example 1**\n",
    "* 다음과 같은 투자 제안이 있다\n",
    "    * 지금 100만원을 투자하면, 1년 후 40만원, 2년 후 75만원을 지급해준다고 한다. 이 투자안의 위험을 고려했을 때 적정 요구수익률은 15%라고 하자.\n",
    "    * 당신은 이 투자안을 채택하겠는가?"
   ]
  },
  {
   "cell_type": "markdown",
   "metadata": {},
   "source": [
    "**solution)**\n",
    "* 투자안의 현재가치(PV)는,\n",
    "$$PV = \\frac{40}{(1+0.15)^1} + \\frac{75}{(1+0.15)^2}=91.49$$\n",
    "* 투자안의 비용(cost)은 100만원 이므로, 당신의 결정은?"
   ]
  },
  {
   "cell_type": "markdown",
   "metadata": {},
   "source": [
    "---\n",
    "## Net present value (NPV)\n",
    "* 투자안의 시장가치(또는 현재가치, PV)와 이 투자를 실행하는 데 들어가는 초기 비용(Cost)와의 차이를 NPV라 함.\n",
    "* 투자안의 초기 현금흐름(즉, 초기 비용)을 $C_0$라 가정하고, 이 투자안이 미래에 $C_1, C_2, \\cdots C_N$의 현금흐름을 발생시킨다면,\n"
   ]
  },
  {
   "cell_type": "markdown",
   "metadata": {},
   "source": [
    "<img src=\"https://raw.github.com/zara2k/lecture/master/timeLine_NPV.png\" width=\"600px\" align=\"center\">"
   ]
  },
  {
   "cell_type": "markdown",
   "metadata": {},
   "source": [
    "<div style=\"text-align: center; font-size:150%\"> <b> $$NPV = \\color{red}{C_0} + \\frac{C_1}{(1+r)^1} + \\frac{C_2}{(1+r)^2}+\\cdots + \\frac{C_N}{(1+r)^N}$$ </b></div>\n",
    "\n",
    "\n",
    "앞 예제에서,\n",
    "\\begin{eqnarray}\n",
    "NPV &=& \\color{red}{-100}+\\frac{40}{(1+0.15)^1} + \\frac{75}{(1+0.15)^2} \\\\\n",
    "    &=& \\color{red}{-100}+91.49\\\\\n",
    "    &=&-8.51 < 0\n",
    "\\end{eqnarray}"
   ]
  },
  {
   "cell_type": "markdown",
   "metadata": {},
   "source": [
    "**Example 2**\n",
    "* 당신의 회사는 매년 전기료로 800만원을 지불하고 있다. \n",
    "* 이때, 새로운 컴퓨터 제어 조명시스템을 제안 받았다. 이 장치를 설치하는 비용은 230만원이며, 앞으로 3년간 매년 90만원의 전기료를 절약할 수 있다.\n",
    "* 적정 할인율이 4%라고 할 때, 이 투자는 받아들일 것인지 평가하라.\n",
    "\n",
    "**Sol)**\n",
    "* NPV = 19.76만원"
   ]
  },
  {
   "cell_type": "markdown",
   "metadata": {},
   "source": [
    "---\n",
    "# Special Cash Flows\n",
    "## <font color='red'>The Perpetuity</font>\n",
    "\n",
    "**Perpetuity**\n",
    "* Infinite series (∞) of equal payments (C) that occur at regular intervals\n",
    "\n"
   ]
  },
  {
   "cell_type": "markdown",
   "metadata": {},
   "source": [
    "<img src=\"https://raw.github.com/zara2k/lecture/master/timeLine_perpetuity.png\" width=\"600px\" align=\"center\">"
   ]
  },
  {
   "cell_type": "markdown",
   "metadata": {},
   "source": [
    "\\begin{eqnarray}\n",
    "PV &=& \\frac{C}{(1+r)} + \\frac{C}{(1+r)^2} + \\frac{C}{(1+r)^3}+ \\cdots \\\\\n",
    "(1+r)PV &=& C + \\frac{C}{(1+r)} + \\frac{C}{(1+r)^2} + \\cdots \\\\\n",
    "\\Rightarrow r \\cdot PV &=& C \n",
    "\\end{eqnarray}"
   ]
  },
  {
   "cell_type": "markdown",
   "metadata": {},
   "source": [
    "영구연금의 현재가치:\n",
    "<div style=\"text-align: center; font-size:150%\"> <b> $$PV = \\frac{C}{r}$$ </b></div>\n"
   ]
  },
  {
   "cell_type": "markdown",
   "metadata": {},
   "source": [
    "---\n",
    "\n",
    "## <font color='red'>The Growing Perpetuity</font>"
   ]
  },
  {
   "cell_type": "markdown",
   "metadata": {},
   "source": [
    "**Growing Perpetuity**\n",
    "* Infinite series($\\infty$) of growing cashflow $C(1+g)^n$ at regular intervals\n"
   ]
  },
  {
   "cell_type": "markdown",
   "metadata": {},
   "source": [
    "<img src=\"https://raw.github.com/zara2k/lecture/master/timeLine_growingPerpetuity.png\" width=\"600px\" align=\"center\">"
   ]
  },
  {
   "cell_type": "markdown",
   "metadata": {},
   "source": [
    "\\begin{eqnarray}\n",
    "PV &=& \\frac{C}{(1+r)} + \\frac{C(1+g)}{(1+r)^2} + \\frac{C(1+g)^2}{(1+r)^3}+ \\cdots \\\\\n",
    "\\frac{(1+r)}{(1+g)}PV &=& \\frac{C}{(1+g)} + \\frac{C}{(1+r)} + \\frac{C(1+g)}{(1+r)^2} + \\cdots \\\\\n",
    "\\Rightarrow \\left[ \\frac{(1+r)}{(1+g)} - 1 \\right] PV &=& \\frac{C}{(1+g)} \n",
    "\\end{eqnarray}"
   ]
  },
  {
   "cell_type": "markdown",
   "metadata": {},
   "source": [
    "성장영구연금의 현재가치:\n",
    "<div style=\"text-align: center; font-size:150%\"> <b> $$PV = \\frac{C}{r-g}$$   </b></div>\n",
    "\n",
    "단, $r-g>0$"
   ]
  },
  {
   "cell_type": "markdown",
   "metadata": {},
   "source": [
    "**Example**\n",
    "* 영원토록 매년 1.5만원을 지급하는 투자안을 보유하고 있다. 적정 할인율이 12%라면, 이 투자안에 얼마까지 지불할 용의가 있는가?\n",
    "\n",
    "**sol)** 12.5만원\n",
    "\n",
    "**Example**\n",
    "* 내년 1.5만원을 지급하고, 그 다음해에는 매년 5%씩 증가된 금액을 영원토록 지급하는 투자안을 보유하고 있다. 적정 할인율이 12%라면, 이 투자안에 얼마까지 지불할 용의가 있는가?\n",
    "\n",
    "**sol)** 21.43만원"
   ]
  },
  {
   "cell_type": "markdown",
   "metadata": {},
   "source": [
    "---\n",
    "## <font color='red'>The Annuity</font>"
   ]
  },
  {
   "cell_type": "markdown",
   "metadata": {},
   "source": [
    "**Annuity**\n",
    "* Finite series (N) of equal cashflow (C) that occur at regular intervals\n"
   ]
  },
  {
   "cell_type": "markdown",
   "metadata": {},
   "source": [
    "<img src=\"https://raw.github.com/zara2k/lecture/master/timeLine_annuity.png\" width=\"600px\" align=\"center\">"
   ]
  },
  {
   "cell_type": "markdown",
   "metadata": {},
   "source": [
    "### PV of Annuity\n",
    "\\begin{eqnarray}\n",
    "PV &=& \\frac{C}{(1+r)} + \\frac{C}{(1+r)^2} + \\cdots+ \\frac{C}{(1+r)^{N-1}}+ \\frac{C}{(1+r)^{N}} \\\\\n",
    "(1+r)PV &=& C + \\frac{C}{(1+r)} +\\cdots + \\frac{C}{(1+r)^{N-2}}+ \\frac{C}{(1+r)^{N-1}}\\\\\n",
    "\\Rightarrow r \\cdot PV &=& C -  \\frac{C}{(1+r)^{N}}\n",
    "\\end{eqnarray}"
   ]
  },
  {
   "cell_type": "markdown",
   "metadata": {},
   "source": [
    "연금의 현재가치:\n",
    "<div style=\"text-align: center; font-size:150%\"> <b> $$PV =\\frac{C}{r} -  \\frac{C}{r}\\frac{1}{(1+r)^{N}}$$ </b></div>\n"
   ]
  },
  {
   "cell_type": "markdown",
   "metadata": {},
   "source": [
    "---\n",
    "### FV of Annuity"
   ]
  },
  {
   "cell_type": "markdown",
   "metadata": {},
   "source": [
    "<img src=\"https://raw.github.com/zara2k/lecture/master/timeLine_annuity.png\" width=\"600px\" align=\"center\">"
   ]
  },
  {
   "cell_type": "markdown",
   "metadata": {},
   "source": [
    "\\begin{eqnarray}\n",
    "FV &=& C + C(1+r) + C(1+r)^2 + \\cdots+ C(1+r)^{N-2} + C(1+r)^{N-1}\\\\\n",
    "(1+r)FV &=& C(1+r) + C(1+r)^2 + C(1+r)^3 + \\cdots+ C(1+r)^{N-1}+C(1+r)^{N}\\\\\n",
    "\\Rightarrow r \\cdot FV &=& C(1+r)^{N} - C\n",
    "\\end{eqnarray}"
   ]
  },
  {
   "cell_type": "markdown",
   "metadata": {},
   "source": [
    "연금의 미래가치:\n",
    "<div style=\"text-align: center; font-size:150%\"> <b> $$FV =\\frac{C}{r} \\left[ (1+r)^{N} - 1 \\right]$$ </b></div>\n"
   ]
  },
  {
   "cell_type": "markdown",
   "metadata": {},
   "source": [
    "---\n",
    "## 금융공학?\n",
    "- 영구연금으로 연금 만들기\n",
    "<img src=\"https://raw.github.com/zara2k/lecture/master/timeLine_annuityFromPerpetuity.png\" width=\"800px\" align=\"center\">"
   ]
  },
  {
   "cell_type": "markdown",
   "metadata": {},
   "source": [
    "연금의 현재가치:\n",
    "<div style=\"text-align: center; font-size:150%\"> <b> $$PV =\\frac{C}{r} -  \\frac{C}{r}\\frac{1}{(1+r)^{N}}$$  </b></div>\n"
   ]
  },
  {
   "cell_type": "markdown",
   "metadata": {},
   "source": [
    "---\n",
    "<div style=\"text-align: left; font-size:150%\"> <b> Example) PV of Annuity </b></div>\n",
    "\n",
    "* 새로운 방식의 로또에서 100억원 금액에 당첨되었다. 단, 100억원은 30년 동안 매년 3.33억씩 나눠준다고 한다. \n",
    "* 적정 할인율이 5%라면, 오늘 이 로또의 가치는 얼마인가?\n",
    "\n",
    "<br><br><br><br><br><br><br><br><br><br><br>\n",
    "sol) 51.24억원\n"
   ]
  },
  {
   "cell_type": "markdown",
   "metadata": {},
   "source": [
    "---\n",
    "<div style=\"text-align: left; font-size:150%\"> <b> Example) PV of Annuity </b></div>\n",
    "\n",
    "* 차를 새로 사고자 하며, 할부금리는 12%라고 한다.\n",
    "* 앞으로 매년 800만원씩 5년간 할부를 갚아갈 수 있다면, 오늘 얼마짜리 차를 살 수 있을까? \n",
    "<br><br><br><br><br><br><br><br><br><br>\n",
    "sol) 2883.9 만원"
   ]
  },
  {
   "cell_type": "markdown",
   "metadata": {},
   "source": [
    "---\n",
    "<div style=\"text-align: left; font-size:150%\"> <b> Example) FV of Annuity </b></div>\n",
    "\n",
    "* 은퇴를 대비하여 매년 200만원을 은퇴계좌에 적립하고자 한다. \n",
    "* 이자율이 7.5%라면, 40년 후 얼마가 적립되어 있겠는가?\n",
    "<br><br><br><br><br><br><br><br><br><br>\n",
    "sol) 45,451.30 만원"
   ]
  },
  {
   "cell_type": "markdown",
   "metadata": {},
   "source": [
    "---\n",
    "# <font color='red'>APR and EAR</font>"
   ]
  },
  {
   "cell_type": "markdown",
   "metadata": {},
   "source": [
    "<br>\n",
    "<div style=\"text-align: left; font-size:150%\"> <b>실제로 이자는 1년에 1번 이상 부과되거나 부여된다.  </b></div>\n",
    "\n",
    "* Bank accounts: daily\n",
    "* Mortgages and leases: monthly\n",
    "* Bonds: quarterly or semiannually\n",
    "\n",
    "이 경우, 공시되는 이자율(APR)과 실제로 부과되는 이자율(EAR)은 서로 다를 수 있다"
   ]
  },
  {
   "cell_type": "markdown",
   "metadata": {},
   "source": [
    "---\n",
    "**Example**\n",
    "\n",
    "* 현재 100만원을 투자하기 위해 아래 세 은행을 고려하고 있다.\n",
    "* 은행들의 이자지급주기는 서로 다르다.\n",
    "\n",
    "Bank A: 15% compounded daily\n",
    "\n",
    "Bank B: 15.5% compounded quarterly \n",
    "\n",
    "Bank C: 16% compounded annually\n",
    "\n",
    "* 시장 관행에 따라 1년 후 실효이자율을 산출하면,\n",
    "\n",
    "Bank A: 16.18%\n",
    "\n",
    "Bank B: 16.42%\n",
    "\n",
    "Bank C: 16%\n",
    "\n",
    "* 저축을 하고자 한다면, 어느 은행을 방문해야 하는가?\n",
    "* 대출을 받고자 한다면, 어느 은행을 방문해야 하는가?"
   ]
  },
  {
   "cell_type": "markdown",
   "metadata": {},
   "source": [
    "---\n",
    "## Definition: APR and EAR\n",
    "- $n$ : the Number of periods per year\n",
    "* Annual Percentage Rate (APR): the annual rate that is quoted by law\n",
    "<br>\n",
    "\n",
    "\\begin{eqnarray}\n",
    "\\textrm{Period rate} &=& \\frac{APR}{n} = \\frac{r}{n}\n",
    "\\end{eqnarray}\n",
    "\n",
    "* Effective Annual Rate (EAR): the actual rate paid (or received) after accounting for compounding that occurs during the year.\n",
    "\n",
    "<div style=\"text-align: center; font-size:150%\"> <b> $$ \\left(1+\\frac{APR}{n} \\right)^n = 1+ EAR $$ </b></div>\n",
    "\n",
    "\n",
    "\n",
    "* 복리계산 주기가 서로 다른 두 투자안을 두고 고민한다면, 어떤 기준으로 비교해야 하는가? APR? EAR?"
   ]
  },
  {
   "cell_type": "markdown",
   "metadata": {},
   "source": [
    "---\n",
    "\n",
    "## Example\n",
    "\n",
    "**Example 1: Investment Decision**\n",
    "* 다음 두 저축 계좌를 고민하고 있다.\n",
    "       (1) 5.25%의 이자를 daily compounding\n",
    "       (2) 5.3%의 이자를 semiannual compounding. \n",
    "\n",
    "\\begin{eqnarray}\n",
    "EAR_1 &=& \\left( 1+ \\frac{0.0525}{365} \\right)^{365} - 1 \\\\\n",
    "&=& 5.39\\% \\\\\n",
    "EAR_2 &=& \\left( 1+ \\frac{0.053}{2} \\right)^2 - 1 \\\\\n",
    "      &=& 5.37 \\%\n",
    "\\end{eqnarray}"
   ]
  },
  {
   "cell_type": "markdown",
   "metadata": {},
   "source": [
    "---\n",
    "**Example 2: PV of lump-sum**\n",
    "* 3년 후 1500만원이 필요하다. \n",
    "* 만약 오늘 5.5%로 daily compounding 적용하는 계좌에 예금할 수 있다면, 오늘 얼마를 입금해야 하는가?\n",
    "<br><br><br><br><br>\n",
    "sol) 1,271.8 만원"
   ]
  },
  {
   "cell_type": "markdown",
   "metadata": {},
   "source": [
    "---\n",
    "**Example 3: PV of annuity**\n",
    "* 매달 63.2만원을 앞으로 4년간 갚아갈 계획이다.\n",
    "* 연 이자율이 12%라면, 지금 얼마짜리 차를 살 수 있는가?\n",
    "<br><br><br><br><br><br><br><br>\n",
    "sol) 2,400 만원\n"
   ]
  },
  {
   "cell_type": "markdown",
   "metadata": {},
   "source": [
    "---\n",
    "**Example 4: FV of annuity**\n",
    "* 매달 5만원씩 9% 이자의 계좌에 적금할 수 있다면, 35년 후 계좌에는 얼마가 있겠는가?\n",
    "<br><br><br><br><br><br><br><br>\n",
    "sol) 14,708.9 만원"
   ]
  },
  {
   "cell_type": "markdown",
   "metadata": {},
   "source": [
    "---\n",
    "# <font color='red'>Quiz</font>"
   ]
  },
  {
   "cell_type": "markdown",
   "metadata": {},
   "source": [
    "`1.` [Calculating Annuity Values][RWJ Essentials 5ed Ch5 Problem6] 우리 회사는 앞으로 9년간 매년 $\\$$60,000의 수익을 창출할 수 있는 새로운 데이터베이스 설치를 고민중이다. 데이터베이스 설치에는 $\\$$325,000이 필요하며, 이 돈은 연이자율 8.25\\%로 차입가능하다면, 이에 대해 의견을 제시하라."
   ]
  },
  {
   "cell_type": "markdown",
   "metadata": {},
   "source": [
    "`2.` [EAR][RWJ Essentials 5ed Ch5 Problem14] X은행은 월복리계산하는 13.1% 대출상품, Y은행은 13.4% 반기복리 계산하는 대출상품을 제시하였다. 차입자로서 어느 은행을 선택할 것인가?"
   ]
  },
  {
   "cell_type": "markdown",
   "metadata": {},
   "source": [
    "`3.` [EAR][RWJ Essentials 5ed Ch5 Problem15] X은행은 대출상품에서 17%의 실효이자를 벌어들이고 싶다. X은행이 일복리(daily compounding)를 적용하고 있다.\n",
    "\n",
    "    a) X 은행은 차입자에게 얼마의 이자율을 공시하여야 하는가?\n",
    "    \n",
    "    b) 이와 같이 공시된 이자율은 금융지식이 부족한 차입자들에게 오해를 일으킬 수 있다. 이에 대해 설명하라."
   ]
  },
  {
   "cell_type": "markdown",
   "metadata": {},
   "source": [
    "`4.` [Loan Payments][RWJ Essentials 5ed Ch5 Problem20] 62,500만원의 스포츠카를 사고싶다. 딜러는 8.2% APR의 60개월 할부를 제안하였다. \n",
    "\n",
    "    a) 할부로 이 차를 산다면, 월지급액은 얼마인가?\n",
    "    \n",
    "    b) 이 할부이자의 실효연이율은 얼마인가?"
   ]
  },
  {
   "cell_type": "markdown",
   "metadata": {},
   "source": [
    "`5.` [EAR][RWJ Essentials 5ed Ch5 Problem22] 사채업자는 오늘 \\\\$4 대출을 해주면 다음주 \\\\$5를 갚도록 요구하고 있다.\n",
    "\n",
    "    a) 이 사채업자의 대출이자율은 APR로 환산하면 얼마인가?\n",
    "    \n",
    "    b) 이 대출에서 사채업자가 벌어들이는 실효연이율은 얼마인가?"
   ]
  },
  {
   "cell_type": "markdown",
   "metadata": {},
   "source": [
    "`6.` [Perpetuities][RWJ Essentials 5ed Ch5 Problem23] 생명보험회사가 매달 300만원을 지급하는 영구연금을 판매하고 있으며, 현재 이 상품의 가격은 17,500만원이다.\n",
    "\n",
    "    a) 이 영구연금에 적용되는 월이자율은 얼마인가?\n",
    "    \n",
    "    b)이 영구연금에 적용되는 APR은 얼마인가?\n",
    "    \n",
    "    c) 이 영구연금에 적용되는 EAR은 얼마인가?"
   ]
  },
  {
   "cell_type": "markdown",
   "metadata": {},
   "source": [
    "`7.` [Annuity FV][RWJ Essentials 5ed Ch5 Problem24] 매달 200만원씩을 월복리계산되는 11% 연이율의 은퇴계좌에 적립하고자 한다. 다음달부터 적립을 시작한다면, 30년 후에 은퇴계좌에는 얼마가 있겠는가?"
   ]
  },
  {
   "cell_type": "markdown",
   "metadata": {},
   "source": [
    "`8.` [Annuity PV][RWJ Essentials 5ed Ch5 Problem26] 당신은 이제 대학을 입학한 신입생이다. 앞으로 4년간의 대학생활동안 매 3개월마다 2000만원의 돈을 인출하여 생활비로 사용하고자 한다. 이 계좌에는 0.75%의 분기이자율이 적용된다면, 현재 은행계좌에는 얼마가 들어있어야 하는가?"
   ]
  },
  {
   "cell_type": "markdown",
   "metadata": {},
   "source": [
    "`9.` [Annuity Due][RWJ Essentials 5ed Ch5 Problem30] 6,000만원짜리 스포츠카를 할부로 사고자 한다. 할부는 60개월로 매달 지급을 해야 하며, 첫 지급은 오늘 이뤄져야 한다. 월지급금은 얼마인가?"
   ]
  },
  {
   "cell_type": "markdown",
   "metadata": {},
   "source": [
    "`10.` [Comparing CF streams][RWJ Essentials 5ed Ch5 Problem35] 오늘 증권사에 2년 계약으로 입사를 했는데 다음 둘 중 하나의 월급체계를 선택해야 한다. 하나는 매달 6,200만원을 받는 계약이며, 다른 하나는 매달 4,900만원을 받지만 오늘 당장 30,000만원을 생활정착금으로 받을 수 있다. 이자율은 8%이다. 당신은 어떤 월급체계를 선택하겠는가?"
   ]
  },
  {
   "cell_type": "markdown",
   "metadata": {},
   "source": [
    "`11.` [Number of Payments][RWJ Essentials 5ed Ch5 Problem39] 매달 140만원을 적립하여 3,5000만원을 만들고자 한다. 첫 적립을 한달 후부터 시작한다면, 몇 달 동안 적립을 해야 하는가?"
   ]
  },
  {
   "cell_type": "markdown",
   "metadata": {},
   "source": [
    "`12.` [Discount Interest Loans][RWJ Essentials 5ed Ch5 Problem45] 1년 동안 12,000만원을 차입하고자 은행에 문의하였더니 이자율 12%에 대출 가능하다고 한다. 단, 0.12% x 12,000 = 1,440만원의 이자는 지금 지불하고 차액인 10,560만원만 빌려줄 수 있다고 한다. 단, 만기에는 원금 12000만원만 갚으면 된다고 한다. 여기서 무엇이 문제점인가?"
   ]
  },
  {
   "cell_type": "markdown",
   "metadata": {},
   "source": [
    "`13.` [PV][RWJ Essentials 5ed Ch5 Problem48] 6개월마다 7,000만원을 10번 지급해주는 5년 기간 연금이 있다. 하지만 첫 지급은 오늘부터 9년 6월 후에 시작된다. 할인율이 12%이고 반기복리 계산한다고 하자. \n",
    "\n",
    "    a) 5년 후에 이 연금을 산다면, 그 때 가격은 얼마인가?\n",
    "    \n",
    "    b) 3년 후에 이 연금을 산다면, 그 때 가격은 얼마인가?\n",
    "    \n",
    "    c) 이 연금의 오늘 가격은 얼마인가?"
   ]
  },
  {
   "cell_type": "markdown",
   "metadata": {},
   "source": [
    "`14.` [Variable Interest Rates][RWJ Essentials 5ed Ch5 Problem50] 매 달 1,300만원을 지급하는 10년 연금이 있으며, 월복리 계산이 적용된다. 단, 처음 4년은 11%의 연이자율이 적용되고, 그 뒤 6년은 8% 이자율이 적용된다면 이 연금의 오늘 가격은 얼마인가?"
   ]
  },
  {
   "cell_type": "markdown",
   "metadata": {},
   "source": [
    "`15.` [Present Value of a Perpetuity][RWJ Essentials 5ed Ch5 Problem52] 15년 후에 시작되는, 매년 1,390만원 지급되는 영구연금이 있다. 이자율은 5.45%이다. 이 영구연금을 9년 후에 구입한다면, 그 때 가격은 얼마인가?"
   ]
  },
  {
   "cell_type": "markdown",
   "metadata": {},
   "source": [
    "`16.` [Finding Interest rate and EAR][RWJ Essentials 5ed Ch5 Problem53] 동네 대부업자는 13%의 연이자율을 적용한다고 한다. 즉, 20,000만원을 빌린다면 1년 이자는 2,600만원이 되고, 1년 후 만기상환 할 때 원금과 이자를 합하여 22,600만원을 상환하여야 할 것이다. 하지만 이 대부업자는 22,600만원을 만기에 상환하는 대신 매달 22,600/12 = 1,883.33만원을 12달 동안 상환하라고 한다. \n",
    "\n",
    "    a) 이 대부업자의 방식대로 상환을 해나가면, 이 대출은 13% 대출이라고 볼 수 있는가? 이런 방식의 대출을 시행한다면, 법적으로 공시되어야 하는 이자율은 얼마인가?\n",
    "    \n",
    "    b) 이와 같은 대출의 실효연이율은 얼마인가?"
   ]
  },
  {
   "cell_type": "markdown",
   "metadata": {},
   "source": [
    "`17.` [Amortization with Equal Payments][RWJ Essentials 5ed Ch5 Problem55] 45,000만원 3년 차입금에 대한 대출상환표를 작성하라. 연이자율은 11%이며, 원리금균등상환 방식을 적용한다."
   ]
  },
  {
   "cell_type": "markdown",
   "metadata": {},
   "source": [
    "<br><br><br><br><br><br><br><br><br><br><br><br><br><br><br><br><br><br><br><br>"
   ]
  },
  {
   "cell_type": "markdown",
   "metadata": {},
   "source": [
    "<br><br><br><br><br><br><br><br><br><br><br><br><br><br><br><br><br><br><br><br>"
   ]
  },
  {
   "cell_type": "markdown",
   "metadata": {},
   "source": [
    "---\n",
    "# <font color='red'>Quiz: python</font>"
   ]
  },
  {
   "cell_type": "markdown",
   "metadata": {},
   "source": [
    "`1.` [Calculating Annuity Values][RWJ Essentials 5ed Ch5 Problem6] 우리 회사는 앞으로 9년간 매년 $\\$$60,000의 수익을 창출할 수 있는 새로운 데이터베이스 설치를 고민중이다. 데이터베이스 설치에는 $\\$$325,000이 필요하며, 이 돈은 연이자율 8.25\\%로 차입가능하다면, 이에 대해 의견을 제시하라."
   ]
  },
  {
   "cell_type": "code",
   "execution_count": 14,
   "metadata": {},
   "outputs": [
    {
     "name": "stdout",
     "output_type": "stream",
     "text": [
      "PV of CF is 370947.84. NPV is 45947.84 and it is positive, so we should accept it!\n"
     ]
    }
   ],
   "source": [
    "def annuity_pv(N, r, C):\n",
    "    return C/r*(1-1/(1+r)**N)\n",
    "\n",
    "pv = annuity_pv(N=9, r=0.0825, C=60000)\n",
    "cost = 325000\n",
    "npv = pv -cost\n",
    "if npv>=0:\n",
    "    sign = 'positive'\n",
    "    decision = 'accept'\n",
    "else:\n",
    "    sign = 'negative'\n",
    "    decision = 'reject'\n",
    "\n",
    "print(\"\"\"PV of CF is %7.2f. NPV is %7.2f and it is %s, so we should %s it!\"\"\"%(pv, npv, sign, decision))"
   ]
  },
  {
   "cell_type": "markdown",
   "metadata": {},
   "source": [
    "`2.` [EAR][RWJ Essentials 5ed Ch5 Problem14] X은행은 월복리계산하는 13.1% 대출상품, Y은행은 13.4% 반기복리 계산하는 대출상품을 제시하였다. 차입자로서 어느 은행을 선택할 것인가?"
   ]
  },
  {
   "cell_type": "code",
   "execution_count": 21,
   "metadata": {},
   "outputs": [
    {
     "name": "stdout",
     "output_type": "stream",
     "text": [
      "EAR of X is 13.916 % and EAR of Y is 13.849 %\n",
      "X의 EAR이 크므로, 차입자로써 Y 은행을 선택해야 한다.\n"
     ]
    }
   ],
   "source": [
    "def EAR(APR,n):\n",
    "    return (1+APR/n)**n - 1\n",
    "X = EAR(0.1310,12)\n",
    "Y = EAR(0.1340, 2)\n",
    "\n",
    "if X>Y:\n",
    "    비교 = '크므로'\n",
    "    선택은행 = 'Y'\n",
    "else:\n",
    "    비교 = '작으므로'\n",
    "    선택은행 = 'Y'\n",
    "    \n",
    "print(\"\"\"EAR of X is %6.3f %% and EAR of Y is %6.3f %%\n",
    "X의 EAR이 %s, 차입자로써 %s 은행을 선택해야 한다.\"\"\" %(X*100,Y*100, 비교, 선택은행))"
   ]
  },
  {
   "cell_type": "markdown",
   "metadata": {},
   "source": [
    "`3.` [EAR][RWJ Essentials 5ed Ch5 Problem15] X은행은 대출상품에서 17%의 실효이자를 벌어들이고 싶다. X은행이 일복리(daily compounding)를 적용하고 있다.\n",
    "\n",
    "    a. X 은행은 차입자에게 얼마의 이자율을 공시하여야 하는가?\n",
    "    \n",
    "    b. 이와 같이 공시된 이자율은 금융지식이 부족한 차입자들에게 오해를 일으킬 수 있다. 이에 대해 설명하라."
   ]
  },
  {
   "cell_type": "markdown",
   "metadata": {},
   "source": [
    "`4.` [Loan Payments][RWJ Essentials 5ed Ch5 Problem20] 62,500만원의 스포츠카를 사고싶다. 딜러는 8.2% APR의 60개월 할부를 제안하였다. \n",
    "\n",
    "    a) 할부로 이 차를 산다면, 월지급액은 얼마인가?\n",
    "    \n",
    "    b) 이 할부이자의 실효연이율은 얼마인가?"
   ]
  },
  {
   "cell_type": "markdown",
   "metadata": {},
   "source": [
    "`5.` [EAR][RWJ Essentials 5ed Ch5 Problem22] 사채업자는 오늘 $4 대출을 해주면 다음주 $5를 갚도록 요구하고 있다.\n",
    "\n",
    "    a) 이 사채업자의 대출이자율은 APR로 환산하면 얼마인가?\n",
    "    \n",
    "    b) 이 대출에서 사채업자가 벌어들이는 실효연이율은 얼마인가?"
   ]
  },
  {
   "cell_type": "markdown",
   "metadata": {},
   "source": [
    "---\n",
    "`6.` [Perpetuities][RWJ Essentials 5ed Ch5 Problem23] 생명보험회사가 매달 300만원을 지급하는 영구연금을 판매하고 있으며, 현재 이 상품의 가격은 17,500만원이다.\n",
    "\n",
    "    a) 이 영구연금에 적용되는 월이자율은 얼마인가?\n",
    "    \n",
    "    b) 이 영구연금에 적용되는 APR은 얼마인가?\n",
    "    \n",
    "    c) 이 영구연금에 적용되는 EAR은 얼마인가?"
   ]
  },
  {
   "cell_type": "code",
   "execution_count": 25,
   "metadata": {},
   "outputs": [
    {
     "name": "stdout",
     "output_type": "stream",
     "text": [
      " 1.71 %\n",
      "20.57 %\n",
      "22.63 %\n"
     ]
    }
   ],
   "source": [
    "#(a) \n",
    "periodRate = 300/17500\n",
    "#(b)\n",
    "apr = periodRate*12\n",
    "#(c)\n",
    "def EAR(APR,n):\n",
    "    return (1+APR/n)**n - 1\n",
    "ear = EAR(apr,12)\n",
    "\n",
    "print(\"%5.2f %%\" %(periodRate*100))\n",
    "print(\"%5.2f %%\" %(apr*100))\n",
    "print(\"%5.2f %%\" %(ear*100))"
   ]
  },
  {
   "cell_type": "markdown",
   "metadata": {},
   "source": [
    "`7.` [Annuity FV][RWJ Essentials 5ed Ch5 Problem24] 매달 200만원씩을 월복리계산되는 11% 연이율의 은퇴계좌에 적립하고자 한다. 다음달부터 적립을 시작한다면, 30년 후에 은퇴계좌에는 얼마가 있겠는가?"
   ]
  },
  {
   "cell_type": "code",
   "execution_count": 26,
   "metadata": {},
   "outputs": [
    {
     "data": {
      "text/plain": [
       "560903.9472841184"
      ]
     },
     "execution_count": 26,
     "metadata": {},
     "output_type": "execute_result"
    }
   ],
   "source": [
    "def annuity_fv(N, r, C):\n",
    "    return C/r*((1+r)**N-1)\n",
    "\n",
    "annuity_fv(N=30*12, r=0.11/12, C=200)"
   ]
  },
  {
   "cell_type": "markdown",
   "metadata": {},
   "source": [
    "`8.` [Annuity PV][RWJ Essentials 5ed Ch5 Problem26] 당신은 이제 대학을 입학한 신입생이다. 앞으로 4년간의 대학생활동안 매 3개월마다 2000만원의 돈을 인출하여 생활비로 사용하고자 한다. 이 계좌에는 0.75%의 분기이자율이 적용된다면, 현재 은행계좌에는 얼마가 들어있어야 하는가?"
   ]
  },
  {
   "cell_type": "markdown",
   "metadata": {},
   "source": [
    "`9.` [Annuity Due][RWJ Essentials 5ed Ch5 Problem30] 6,000만원짜리 스포츠카를 할부로 사고자 한다. 할부는 60개월로 매달 지급을 해야 하며, 첫 지급은 오늘 이뤄져야 한다. 월지급금은 얼마인가?"
   ]
  },
  {
   "cell_type": "markdown",
   "metadata": {},
   "source": [
    "`10.` [Comparing CF streams][RWJ Essentials 5ed Ch5 Problem35] 오늘 증권사에 2년 계약으로 입사를 했는데 다음 둘 중 하나의 월급체계를 선택해야 한다. 하나는 매달 6,200만원을 받는 계약이며, 다른 하나는 매달 4,900만원을 받지만 오늘 당장 30,000만원을 생활정착금으로 받을 수 있다. 이자율은 8%이다. 당신은 어떤 월급체계를 선택하겠는가?"
   ]
  },
  {
   "cell_type": "code",
   "execution_count": 30,
   "metadata": {},
   "outputs": [
    {
     "name": "stdout",
     "output_type": "stream",
     "text": [
      "전자 급여체계의 현재가치는 137085.37, 후자 급여체계의 현재가치는 138341.66 이다. \n",
      "따라서 후자를 선택한다.\n"
     ]
    }
   ],
   "source": [
    "def annuity_pv(N, r, C):\n",
    "    return C/r*(1-1/(1+r)**N)\n",
    "\n",
    "A = annuity_pv(N=2*12, r=0.08/12, C=6200)\n",
    "B = annuity_pv(N=2*12, r=0.08/12, C=4900)+30000\n",
    "if A>B:\n",
    "    선택 = '전자'\n",
    "else:\n",
    "    선택 = '후자'\n",
    "    \n",
    "print(\"\"\"전자 급여체계의 현재가치는 %7.2f, 후자 급여체계의 현재가치는 %7.2f 이다. \n",
    "따라서 %s를 선택한다.\"\"\" %(A,B,선택))"
   ]
  },
  {
   "cell_type": "markdown",
   "metadata": {},
   "source": [
    "`11.` [Number of Payments][RWJ Essentials 5ed Ch5 Problem39] 매달 140만원을 적립하여 3,5000만원을 만들고자 한다. 첫 적립을 한달 후부터 시작한다면, 몇 달 동안 적립을 해야 하는가?\n",
    "\n",
    "`12.` [Discount Interest Loans][RWJ Essentials 5ed Ch5 Problem45] 1년 동안 12,000만원을 차입하고자 은행에 문의하였더니 이자율 12%에 대출 가능하다고 한다. 단, 0.12% x 12,000 = 1,440만원의 이자는 지금 지불하고 차액인 10,560만원만 빌려줄 수 있다고 한다. 단, 만기에는 원금 12000만원만 갚으면 된다고 한다. 여기서 무엇이 문제점인가?\n",
    "\n",
    "`13.` [PV][RWJ Essentials 5ed Ch5 Problem48] 6개월마다 7,000만원을 10번 지급해주는 5년 기간 연금이 있다. 하지만 첫 지급은 오늘부터 9년 6월 후에 시작된다. 할인율이 12%이고 반기복리 계산한다고 하자. \n",
    "\n",
    "    a) 5년 후에 이 연금을 산다면, 그 때 가격은 얼마인가?\n",
    "    \n",
    "    b) 3년 후에 이 연금을 산다면, 그 때 가격은 얼마인가?\n",
    "    \n",
    "    c) 이 연금의 오늘 가격은 얼마인가?\n",
    "\n",
    "`14.` [Variable Interest Rates][RWJ Essentials 5ed Ch5 Problem50] 매 달 1,300만원을 지급하는 10년 연금이 있으며, 월복리 계산이 적용된다. 단, 처음 4년은 11%의 연이자율이 적용되고, 그 뒤 6년은 8% 이자율이 적용된다면 이 연금의 오늘 가격은 얼마인가?\n",
    "\n",
    "`15.` [Present Value of a Perpetuity][RWJ Essentials 5ed Ch5 Problem52] 15년 후에 시작되는, 매년 1,390만원 지급되는 영구연금이 있다. 이자율은 5.45%이다. 이 영구연금을 9년 후에 구입한다면, 그 때 가격은 얼마인가?\n",
    "\n"
   ]
  },
  {
   "cell_type": "markdown",
   "metadata": {},
   "source": [
    "`16.` [Finding Interest rate and EAR][RWJ Essentials 5ed Ch5 Problem53] 동네 대부업자는 13%의 연이자율을 적용한다고 한다. 즉, 20,000만원을 빌린다면 1년 이자는 2,600만원이 되고, 1년 후 만기상환 할 때 원금과 이자를 합하여 22,600만원을 상환하여야 할 것이다. 하지만 이 대부업자는 22,600만원을 만기에 상환하는 대신 매달 22,600/12 = 1,883.33만원을 12달 동안 상환하라고 한다. \n",
    "\n",
    "    a) 이 대부업자의 방식대로 상환을 해나가면, 이 대출은 13% 대출이라고 볼 수 있는가? 이런 방식의 대출을 시행한다면, 법적으로 공시되어야 하는 이자율은 얼마인가?\n",
    "    \n",
    "    b) 이와 같은 대출의 실효연이율은 얼마인가?\n",
    "\n",
    "`17.` [Amortization with Equal Payments][RWJ Essentials 5ed Ch5 Problem55] 45,000만원 3년 차입금에 대한 대출상환표를 작성하라. 연이자율은 11%이며, 원리금균등상환 방식을 적용한다."
   ]
  },
  {
   "cell_type": "code",
   "execution_count": null,
   "metadata": {},
   "outputs": [],
   "source": []
  }
 ],
 "metadata": {
  "kernelspec": {
   "display_name": "Python 3",
   "language": "python",
   "name": "python3"
  },
  "language_info": {
   "codemirror_mode": {
    "name": "ipython",
    "version": 3
   },
   "file_extension": ".py",
   "mimetype": "text/x-python",
   "name": "python",
   "nbconvert_exporter": "python",
   "pygments_lexer": "ipython3",
   "version": "3.8.8"
  }
 },
 "nbformat": 4,
 "nbformat_minor": 4
}
